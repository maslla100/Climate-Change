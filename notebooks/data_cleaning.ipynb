{
 "cells": [
  {
   "cell_type": "code",
   "execution_count": 2,
   "metadata": {},
   "outputs": [
    {
     "name": "stdout",
     "output_type": "stream",
     "text": [
      "                                                                                          Land-Ocean: Global Means\n",
      "2020 1.17 1.24 1.17 1.12 1.01 .91  .89  .86  .98  .87  1.10 .79  1.01 1.04 1.17 1.10 .89                       .98\n",
      "2021 .81  .64  .89  .76  .79  .84  .92  .82  .92  .99  .93  .87  .85  .84  .75  .81  .86                       .95\n",
      "2022 .91  .89  1.05 .84  .84  .92  .94  .95  .89  .96  .73  .80  .89  .90  .89  .91  .94                       .86\n",
      "2023 .87  .96  1.22 .99  .94  1.08 1.19 1.19 1.48 1.34 1.42 1.35 1.17 1.12 .88  1.05 1.15                     1.41\n",
      "2024 1.24 1.43 1.40 1.32 1.16 1.25 1.21 1.30 ***  ***  ***  ***  ***  ***  1.34 1.30 1.25                      ***\n",
      "                                                                             Land-Ocean: Southern Hemispheric Means\n",
      "2020 .75 .77 .67  .85 .75 .71 .69 .62  .76  .55 .60 .39 .67 .71 .77 .76 .67                                     .63\n",
      "2021 .34 .32 .56  .38 .53 .49 .77 .62  .79  .68 .57 .56 .55 .54 .35 .49 .63                                     .68\n",
      "2022 .58 .61 .67  .58 .66 .72 .81 .72  .62  .60 .36 .52 .62 .62 .58 .64 .75                                     .53\n",
      "2023 .44 .63 .81  .97 .76 .99 .95 .84  1.30 .81 .87 .86 .85 .82 .53 .85 .93                                     .99\n",
      "2024 .81 .93 1.01 .84 .90 .96 .99 1.17 ***  *** *** *** *** *** .87 .92 1.04                                    ***\n",
      "     Year  Glob  NHem  SHem  24N-90N  24S-24N  90S-24S  64N-90N  44N-64N  \\\n",
      "139  2019  0.98  1.21  0.74     1.42     0.89     0.64     2.74     1.43   \n",
      "140  2020  1.01  1.35  0.67     1.67     0.86     0.56     2.88     1.81   \n",
      "141  2021  0.85  1.14  0.55     1.43     0.65     0.52     2.07     1.36   \n",
      "142  2022  0.89  1.16  0.62     1.52     0.57     0.70     2.35     1.50   \n",
      "143  2023  1.17  1.49  0.85     1.78     1.06     0.71     2.58     1.86   \n",
      "\n",
      "     24N-44N  EQU-24N  24S-EQU  44S-24S  64S-44S  90S-64S  \n",
      "139     1.00     0.90     0.89     0.74     0.39     0.82  \n",
      "140     1.19     0.88     0.83     0.57     0.39     0.87  \n",
      "141     1.27     0.72     0.59     0.71     0.32     0.30  \n",
      "142     1.27     0.62     0.51     0.78     0.39     1.08  \n",
      "143     1.47     1.07     1.04     0.90     0.44     0.62  \n"
     ]
    }
   ],
   "source": [
    "import pandas as pd\n",
    "\n",
    "# Load datasets\n",
    "global_monthly = pd.read_csv(\"../data/raw/Globalmonthlyandseasonal.csv\")\n",
    "southern_hemisphere = pd.read_csv(\"../data/raw/SouthernHemisphere.csv\")\n",
    "zone_annual = pd.read_csv(\"../data/raw/ZoneAnnual.csv\")\n",
    "\n",
    "# Inspect data\n",
    "print(global_monthly.tail())\n",
    "print(southern_hemisphere.tail())\n",
    "print(zone_annual.tail())\n",
    "\n",
    "# Cleaning - handle missing values, renaming columns, type conversion, etc.\n",
    "global_monthly.replace(\"***\", pd.NA, inplace=True)\n",
    "southern_hemisphere.replace(\"***\", pd.NA, inplace=True)\n",
    "\n",
    "# Save cleaned data\n",
    "global_monthly.to_csv(\"../data/cleaned/cleaned_globalmonthlyandseasonal.csv\", index=False)\n",
    "southern_hemisphere.to_csv(\"../data/cleaned/cleaned_southernhemisphere.csv\", index=False)\n",
    "zone_annual.to_csv(\"../data/cleaned/cleaned_zoneannual.csv\", index=False)\n"
   ]
  }
 ],
 "metadata": {
  "kernelspec": {
   "display_name": "dev",
   "language": "python",
   "name": "python3"
  },
  "language_info": {
   "codemirror_mode": {
    "name": "ipython",
    "version": 3
   },
   "file_extension": ".py",
   "mimetype": "text/x-python",
   "name": "python",
   "nbconvert_exporter": "python",
   "pygments_lexer": "ipython3",
   "version": "3.10.14"
  }
 },
 "nbformat": 4,
 "nbformat_minor": 2
}
