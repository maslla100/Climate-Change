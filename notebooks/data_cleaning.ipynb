{
 "cells": [
  {
   "cell_type": "code",
   "execution_count": 3,
   "metadata": {},
   "outputs": [],
   "source": [
    "import pandas as pd\n",
    "\n",
    "# Load datasets\n",
    "global_monthly = pd.read_csv(\"../data/raw/Globalmonthlyandseasonal.csv\")\n",
    "southern_hemisphere = pd.read_csv(\"../data/raw/SouthernHemisphere.csv\")\n",
    "\n",
    "# Cleaning - handle missing values\n",
    "global_monthly.replace(\"***\", pd.NA, inplace=True)\n",
    "southern_hemisphere.replace(\"***\", pd.NA, inplace=True)\n",
    "\n",
    "# Save cleaned data\n",
    "global_monthly.to_csv(\"../data/cleaned/cleaned_globalmonthlyandseasonal.csv\", index=False)\n",
    "southern_hemisphere.to_csv(\"../data/cleaned/cleaned_southernhemisphere.csv\", index=False)\n"
   ]
  }
 ],
 "metadata": {
  "kernelspec": {
   "display_name": "dev",
   "language": "python",
   "name": "python3"
  },
  "language_info": {
   "codemirror_mode": {
    "name": "ipython",
    "version": 3
   },
   "file_extension": ".py",
   "mimetype": "text/x-python",
   "name": "python",
   "nbconvert_exporter": "python",
   "pygments_lexer": "ipython3",
   "version": "3.10.14"
  }
 },
 "nbformat": 4,
 "nbformat_minor": 2
}
