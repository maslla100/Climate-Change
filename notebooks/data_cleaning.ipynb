{
    "cells": [
        {
            "cell_type": "markdown",
            "metadata": {},
            "source": [
                "# Data Cleaning Notebook\n",
                "This notebook is used to clean the datasets for global temperature anomalies and related information."
            ]
        },
        {
            "cell_type": "code",
            "execution_count": 1,
            "metadata": {},
            "outputs": [],
            "source": [
                "# Step 1: Import Required Libraries\n",
                "import pandas as pd\n",
                "import numpy as np"
            ]
        },
        {
            "cell_type": "markdown",
            "metadata": {},
            "source": [
                "### Step 2: Load the Datasets\n",
                "Load all the raw data files that need cleaning."
            ]
        },
        {
            "cell_type": "code",
            "execution_count": 2,
            "metadata": {},
            "outputs": [],
            "source": [
                "# Load datasets\n",
                "global_monthly = pd.read_csv(\"../data/raw/Globalmonthlyandseasonal.csv\")\n",
                "northern_hemisphere = pd.read_csv(\"../data/raw/NorthernHemisphere.csv\")\n",
                "southern_hemisphere = pd.read_csv(\"../data/raw/SouthernHemisphere.csv\")\n",
                "zone_annual = pd.read_csv(\"../data/raw/ZoneAnnual.csv\")"
            ]
        },
        {
            "cell_type": "markdown",
            "metadata": {},
            "source": [
                "### Step 3: Handle Missing Values\n",
                "Replace placeholder values such as '***' with `NaN`."
            ]
        },
        {
            "cell_type": "code",
            "execution_count": 3,
            "metadata": {},
            "outputs": [],
            "source": [
                "# Handle missing values by replacing '***' with NaN\n",
                "datasets = [global_monthly, northern_hemisphere, southern_hemisphere, zone_annual]\n",
                "for dataset in datasets:\n",
                "    dataset.replace(\"***\", np.nan, inplace=True)"
            ]
        },
        {
            "cell_type": "markdown",
            "metadata": {},
            "source": [
                "### Step 4: Ensure Correct Data Types\n",
                "Ensure the `Year` column is of integer type and check the data types of other columns."
            ]
        },
        {
            "cell_type": "code",
            "execution_count": 4,
            "metadata": {},
            "outputs": [],
            "source": [
                "# Convert the 'Year' column to integer type for all datasets\n",
                "for dataset in datasets:\n",
                "    dataset['Year'] = dataset['Year'].astype(int)\n",
                "\n",
                "# Check data types\n",
                "global_monthly.info()"
            ]
        },
        {
            "cell_type": "markdown",
            "metadata": {},
            "source": [
                "### Step 5: Handle Duplicates\n",
                "Remove any duplicate rows in the datasets."
            ]
        },
        {
            "cell_type": "code",
            "execution_count": 5,
            "metadata": {},
            "outputs": [],
            "source": [
                "# Drop duplicate rows\n",
                "for dataset in datasets:\n",
                "    dataset.drop_duplicates(inplace=True)"
            ]
        },
        {
            "cell_type": "markdown",
            "metadata": {},
            "source": [
                "### Step 6: Validate Year Ranges\n",
                "Remove rows where the `Year` value is outside the expected range (1880-2023)."
            ]
        },
        {
            "cell_type": "code",
            "execution_count": 6,
            "metadata": {},
            "outputs": [],
            "source": [
                "# Keep only rows where 'Year' is between 1880 and 2023\n",
                "for dataset in datasets:\n",
                "    dataset = dataset[(dataset['Year'] >= 1880) & (dataset['Year'] <= 2023)]"
            ]
        },
        {
            "cell_type": "markdown",
            "metadata": {},
            "source": [
                "### Step 7: Fill Missing Values\n",
                "For missing temperature data, we can fill in the gaps using the column means."
            ]
        },
        {
            "cell_type": "code",
            "execution_count": 7,
            "metadata": {},
            "outputs": [],
            "source": [
                "# Fill missing values with column means\n",
                "for dataset in datasets:\n",
                "    dataset.fillna(dataset.mean(), inplace=True)"
            ]
        },
        {
            "cell_type": "markdown",
            "metadata": {},
            "source": [
                "### Step 8: Save Cleaned Datasets\n",
                "Save the cleaned datasets to new CSV files."
            ]
        },
        {
            "cell_type": "code",
            "execution_count": 8,
            "metadata": {},
            "outputs": [],
            "source": [
                "# Save cleaned data\n",
                "global_monthly.to_csv(\"../data/cleaned/cleaned_globalmonthlyandseasonal.csv\", index=False)\n",
                "northern_hemisphere.to_csv(\"../data/cleaned/cleaned_northernhemisphere.csv\", index=False)\n",
                "southern_hemisphere.to_csv(\"../data/cleaned/cleaned_southernhemisphere.csv\", index=False)\n",
                "zone_annual.to_csv(\"../data/cleaned/cleaned_zoneannual.csv\", index=False)"
            ]
        }
    ],
    "metadata": {
        "kernelspec": {
            "display_name": "Python 3",
            "language": "python",
            "name": "python3"
        },
        "language_info": {
            "codemirror_mode": {
                "name": "ipython",
                "version": 3
            },
            "file_extension": ".py",
            "mimetype": "text/x-python",
            "name": "python",
            "nbconvert_exporter": "python",
            "pygments_lexer": "ipython3",
            "version": "3.10.14"
        }
    },
    "nbformat": 4,
    "nbformat_minor": 2
}