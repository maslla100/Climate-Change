{
 "cells": [
  {
   "cell_type": "code",
   "execution_count": null,
   "metadata": {},
   "outputs": [],
   "source": [
    "import pandas as pd\n",
    "import matplotlib.pyplot as plt\n",
    "\n",
    "# Load cleaned data\n",
    "global_monthly = pd.read_csv(\"../data/cleaned/cleaned_globalmonthlyandseasonal.csv\")\n",
    "\n",
    "# Example: Line chart for global temperature anomalies\n",
    "plt.plot(global_monthly['Year'], global_monthly['J-D'], label='Global Anomaly (J-D)')\n",
    "plt.title(\"Global Temperature Anomaly Over Time\")\n",
    "plt.xlabel(\"Year\")\n",
    "plt.ylabel(\"Temperature Anomaly (°C)\")\n",
    "plt.legend()\n",
    "plt.show()\n"
   ]
  }
 ],
 "metadata": {
  "language_info": {
   "name": "python"
  }
 },
 "nbformat": 4,
 "nbformat_minor": 2
}
