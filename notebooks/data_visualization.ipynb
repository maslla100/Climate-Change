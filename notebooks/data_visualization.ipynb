{
    "cells": [
        {
            "cell_type": "markdown",
            "metadata": {},
            "source": [
                "# Climate Change Data Visualization\n",
                "This notebook contains several visualizations based on cleaned climate change data, using hvPlot for interactive plots."
            ]
        },
        {
            "cell_type": "code",
            "execution_count": 1,
            "metadata": {},
            "outputs": [],
            "source": [
                "# Step 1: Import Libraries\n",
                "import pandas as pd\n",
                "import hvplot.pandas  # Import hvplot for interactive visualizations"
            ]
        },
        {
            "cell_type": "markdown",
            "metadata": {},
            "source": [
                "### Step 2: Load Cleaned Data\n",
                "We'll load the cleaned data from the CSV files."
            ]
        },
        {
            "cell_type": "code",
            "execution_count": 2,
            "metadata": {},
            "outputs": [],
            "source": [
                "# Load cleaned data\n",
                "global_monthly = pd.read_csv('../data/cleaned/cleaned_globalmonthlyandseasonal.csv')\n",
                "northern_hemisphere = pd.read_csv('../data/cleaned/cleaned_northernhemisphere.csv')\n",
                "southern_hemisphere = pd.read_csv('../data/cleaned/cleaned_southernhemisphere.csv')"
            ]
        },
        {
            "cell_type": "markdown",
            "metadata": {},
            "source": [
                "### Step 3: Visualization 1 - Global Temperature Anomalies Over Time\n",
                "This plot shows the global temperature anomalies (J-D) over time."
            ]
        },
        {
            "cell_type": "code",
            "execution_count": 3,
            "metadata": {},
            "outputs": [],
            "source": [
                "# Visualization 1: Global Temperature Anomalies Over Time\n",
                "global_temp_plot = global_monthly.hvplot.line(x='Year', y='J-D', title=\"Global Temperature Anomaly Over Time\")\n",
                "global_temp_plot"
            ]
        },
        {
            "cell_type": "markdown",
            "metadata": {},
            "source": [
                "### Step 4: Visualization 2 - Average Monthly Temperature Anomalies\n",
                "This bar plot shows the average temperature anomalies for each month (January through December)."
            ]
        },
        {
            "cell_type": "code",
            "execution_count": 4,
            "metadata": {},
            "outputs": [],
            "source": [
                "# Visualization 2: Average Monthly Temperature Anomalies\n",
                "months = ['Jan', 'Feb', 'Mar', 'Apr', 'May', 'Jun', 'Jul', 'Aug', 'Sep', 'Oct', 'Nov', 'Dec']\n",
                "monthly_anomalies = global_monthly[months].mean()\n",
                "monthly_plot = monthly_anomalies.hvplot.bar(title=\"Average Monthly Temperature Anomalies\", ylabel=\"Temperature Anomaly (°C)\")\n",
                "monthly_plot"
            ]
        },
        {
            "cell_type": "markdown",
            "metadata": {},
            "source": [
                "### Step 5: Visualization 3 - Northern vs Southern Hemisphere Temperature Anomalies\n",
                "This plot compares temperature anomalies between the Northern and Southern Hemispheres."
            ]
        },
        {
            "cell_type": "code",
            "execution_count": 5,
            "metadata": {},
            "outputs": [],
            "source": [
                "# Visualization 3: Comparing Northern and Southern Hemisphere Anomalies\n",
                "hemisphere_comparison_plot = northern_hemisphere.hvplot.line(x='Year', y='J-D', label='Northern Hemisphere') * \\\n",
                "    southern_hemisphere.hvplot.line(x='Year', y='J-D', color='orange', label='Southern Hemisphere', title=\"Northern vs Southern Hemisphere Temperature Anomalies\")\n",
                "hemisphere_comparison_plot"
            ]
        },
        {
            "cell_type": "markdown",
            "metadata": {},
            "source": [
                "### Step 6: Visualization 4 - Seasonal Temperature Anomalies Over Time\n",
                "This plot shows the seasonal temperature anomalies (DJF, MAM, JJA, SON) over time."
            ]
        },
        {
            "cell_type": "code",
            "execution_count": 6,
            "metadata": {},
            "outputs": [],
            "source": [
                "# Visualization 4: Seasonal Temperature Anomalies Over Time\n",
                "seasonal_plot = global_monthly.hvplot.line(x='Year', y=['DJF', 'MAM', 'JJA', 'SON'], title=\"Seasonal Temperature Anomalies Over Time\")\n",
                "seasonal_plot"
            ]
        },
        {
            "cell_type": "markdown",
            "metadata": {},
            "source": [
                "### Step 7: Visualization 5 - Heatmap of Monthly Temperature Anomalies Over Time\n",
                "This heatmap shows temperature anomalies for each month over time."
            ]
        },
        {
            "cell_type": "code",
            "execution_count": 7,
            "metadata": {},
            "outputs": [],
            "source": [
                "# Visualization 5: Heatmap of Monthly Temperature Anomalies Over Time\n",
                "monthly_anomalies_df = global_monthly.set_index('Year')[['Jan', 'Feb', 'Mar', 'Apr', 'May', 'Jun', 'Jul', 'Aug', 'Sep', 'Oct', 'Nov', 'Dec']]\n",
                "heatmap_plot = monthly_anomalies_df.hvplot.heatmap(cmap='coolwarm', title=\"Heatmap of Monthly Temperature Anomalies Over Time\")\n",
                "heatmap_plot"
            ]
        }
    ],
    "metadata": {
        "kernelspec": {
            "display_name": "Python 3",
            "language": "python",
            "name": "python3"
        },
        "language_info": {
            "name": "python",
            "version": "3.8.5"
        }
    },
    "nbformat": 4,
    "nbformat_minor": 4
}